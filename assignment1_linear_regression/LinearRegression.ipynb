{
 "cells": [
  {
   "cell_type": "markdown",
   "source": [
    "# Assignment 1: Linear Regression\r\n",
    "\r\n",
    "MIPT Master Program: ML Systems for Smart Production\r\n",
    "\r\n",
    "Course: ML (Semester 1)\r\n",
    "\r\n",
    "Assignment 1: **Linear Regression**\r\n",
    "\r\n",
    "Code by Dmitry Kochetkov"
   ],
   "metadata": {}
  },
  {
   "cell_type": "code",
   "execution_count": 335,
   "source": [
    "import pandas as pd\r\n",
    "import numpy as np\r\n",
    "from sklearn import linear_model, base\r\n",
    "from sklearn.metrics import mean_squared_error, r2_score, mean_absolute_percentage_error\r\n",
    "from sklearn.model_selection import GridSearchCV\r\n",
    "import enum\r\n",
    "import matplotlib.pyplot as plt\r\n",
    "\r\n",
    "plt.style.use('dark_background')"
   ],
   "outputs": [],
   "metadata": {}
  },
  {
   "cell_type": "markdown",
   "source": [
    "## Loading Data"
   ],
   "metadata": {}
  },
  {
   "cell_type": "code",
   "execution_count": 336,
   "source": [
    "class Dataset:\r\n",
    "    def __init__(self, path: str):\r\n",
    "        if not isinstance(path, str):\r\n",
    "            raise ValueError('Path must be str')\r\n",
    "\r\n",
    "        path = './data/3.txt'\r\n",
    "        with open(path) as data_file:\r\n",
    "            dim = int(data_file.readline()) # number of features\r\n",
    "            x_train = list()\r\n",
    "            y_train = list()\r\n",
    "            x_test = list()\r\n",
    "            y_test = list()\r\n",
    "\r\n",
    "            n = int(data_file.readline()) # train set size\r\n",
    "            for i in range(n):\r\n",
    "                data_row = list(map(float, data_file.readline().split()))\r\n",
    "                x_train.append(data_row[:-1])\r\n",
    "                y_train.append(data_row[-1])\r\n",
    "            \r\n",
    "            k = int(data_file.readline()) # test set size\r\n",
    "            for i in range(k):\r\n",
    "                data_row = list(map(float, data_file.readline().split()))\r\n",
    "                x_test.append(data_row[:-1])\r\n",
    "                y_test.append(data_row[-1])\r\n",
    "\r\n",
    "            self.x_train = np.matrix(x_train)\r\n",
    "            self.y_train = np.matrix(y_train)\r\n",
    "            self.x_test = np.matrix(x_test)\r\n",
    "            self.y_test = np.matrix(y_test)\r\n",
    "\r\n",
    "            self.y_train = self.y_train.transpose()\r\n",
    "            self.y_test = self.y_test.transpose()"
   ],
   "outputs": [],
   "metadata": {}
  },
  {
   "cell_type": "markdown",
   "source": [
    "## Define Metrics"
   ],
   "metadata": {}
  },
  {
   "cell_type": "code",
   "execution_count": 337,
   "source": [
    "class Metrics:\r\n",
    "    def mape(actual, predicted):\r\n",
    "        return mean_absolute_percentage_error(actual, predicted)\r\n",
    "\r\n",
    "    def smape(actual, predicted):\r\n",
    "        A = np.array(actual.transpose())\r\n",
    "        P = np.array(predicted.transpose())\r\n",
    "        return 1.0 / len(A) * np.sum(2 * np.abs(P - A) / (np.abs(A) + np.abs(P)))\r\n",
    "\r\n",
    "    def nrmse(actual, predicted):\r\n",
    "        return mean_squared_error(actual, predicted, squared=False) / (actual.max() - actual.min())"
   ],
   "outputs": [],
   "metadata": {}
  },
  {
   "cell_type": "markdown",
   "source": [
    "## Main function"
   ],
   "metadata": {}
  },
  {
   "cell_type": "code",
   "execution_count": 338,
   "source": [
    "regressors = dict()\r\n",
    "regressors['ols'] = linear_model.LinearRegression()\r\n",
    "regressors['ridge'] = linear_model.Ridge()\r\n",
    "regressors['lasso'] = linear_model.Lasso()\r\n",
    "regressors['elastic-net'] = linear_model.ElasticNet()\r\n",
    "regressors['sgd'] = linear_model.SGDRegressor()\r\n",
    "\r\n",
    "def assignment(dataset: Dataset, method='ols'):\r\n",
    "    regressor = regressors[method]\r\n",
    "    regressor.fit(dataset.x_train, dataset.y_train)\r\n",
    "    predicted = regressor.predict(dataset.x_test)\r\n",
    "\r\n",
    "    print('Result MAPE: {0}'.format(Metrics.mape(dataset.y_test, predicted)))\r\n",
    "    print('Result SMAPE: {0}'.format(Metrics.smape(dataset.y_test, predicted)))\r\n",
    "    print('Result NRMSE: {0}'.format(Metrics.nrmse(dataset.y_test, predicted)))\r\n",
    "    print('Coefficient of determination: {0}'.format(r2_score(dataset.y_test, predicted)))"
   ],
   "outputs": [],
   "metadata": {}
  },
  {
   "cell_type": "markdown",
   "source": [
    "## OLS"
   ],
   "metadata": {}
  },
  {
   "cell_type": "code",
   "execution_count": 339,
   "source": [
    "dataset = Dataset('./data/1.txt')\r\n",
    "assignment(dataset, 'ols')"
   ],
   "outputs": [
    {
     "output_type": "stream",
     "name": "stdout",
     "text": [
      "Result MAPE: 0.0022111485096134786\n",
      "Result SMAPE: 0.5561509053151132\n",
      "Result NRMSE: 0.0008965152289746172\n",
      "Coefficient of determination: 0.9999775126820426\n"
     ]
    }
   ],
   "metadata": {}
  },
  {
   "cell_type": "markdown",
   "source": [
    "## OLS: Ridge"
   ],
   "metadata": {}
  },
  {
   "cell_type": "code",
   "execution_count": 340,
   "source": [
    "assignment(dataset, 'ridge')"
   ],
   "outputs": [
    {
     "output_type": "stream",
     "name": "stdout",
     "text": [
      "Result MAPE: 0.00028471155330226896\n",
      "Result SMAPE: 0.07306178223749862\n",
      "Result NRMSE: 0.00011841372029401789\n",
      "Coefficient of determination: 0.9999996076927178\n"
     ]
    }
   ],
   "metadata": {}
  },
  {
   "cell_type": "markdown",
   "source": [
    "## OLS: Lasso"
   ],
   "metadata": {}
  },
  {
   "cell_type": "code",
   "execution_count": 341,
   "source": [
    "assignment(dataset, 'lasso')"
   ],
   "outputs": [
    {
     "output_type": "stream",
     "name": "stdout",
     "text": [
      "Result MAPE: 0.00027776587329172086\n",
      "Result SMAPE: 0.07163178274323502\n",
      "Result NRMSE: 5.950619961484769e-05\n",
      "Coefficient of determination: 0.9999999009289542\n"
     ]
    }
   ],
   "metadata": {}
  },
  {
   "cell_type": "markdown",
   "source": [
    "## OLS: Elastic-Net"
   ],
   "metadata": {}
  },
  {
   "cell_type": "code",
   "execution_count": 342,
   "source": [
    "assignment(dataset, 'elastic-net')"
   ],
   "outputs": [
    {
     "output_type": "stream",
     "name": "stdout",
     "text": [
      "Result MAPE: 0.0002777658748746221\n",
      "Result SMAPE: 0.07163178315444149\n",
      "Result NRMSE: 5.950620001907231e-05\n",
      "Coefficient of determination: 0.9999999009289529\n"
     ]
    }
   ],
   "metadata": {}
  }
 ],
 "metadata": {
  "orig_nbformat": 4,
  "language_info": {
   "name": "python",
   "version": "3.9.1",
   "mimetype": "text/x-python",
   "codemirror_mode": {
    "name": "ipython",
    "version": 3
   },
   "pygments_lexer": "ipython3",
   "nbconvert_exporter": "python",
   "file_extension": ".py"
  },
  "kernelspec": {
   "name": "python3",
   "display_name": "Python 3.9.1 64-bit"
  },
  "interpreter": {
   "hash": "63fd5069d213b44bf678585dea6b12cceca9941eaf7f819626cde1f2670de90d"
  }
 },
 "nbformat": 4,
 "nbformat_minor": 2
}