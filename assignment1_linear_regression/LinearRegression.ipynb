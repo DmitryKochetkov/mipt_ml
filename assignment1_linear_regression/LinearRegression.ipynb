{
 "cells": [
  {
   "cell_type": "markdown",
   "metadata": {},
   "source": [
    "# Assignment 1: Linear Regression\n",
    "\n",
    "MIPT Master Program: ML Systems for Smart Production\n",
    "\n",
    "Course: ML (Semester 1)\n",
    "\n",
    "Assignment 1: **Linear Regression**\n",
    "\n",
    "Code by Dmitry Kochetkov"
   ]
  },
  {
   "cell_type": "code",
   "execution_count": 335,
   "metadata": {},
   "outputs": [],
   "source": [
    "import pandas as pd\n",
    "import numpy as np\n",
    "from sklearn import linear_model, base\n",
    "from sklearn.metrics import mean_squared_error, r2_score, mean_absolute_percentage_error\n",
    "from sklearn.model_selection import GridSearchCV\n",
    "import enum\n",
    "import matplotlib.pyplot as plt\n",
    "\n",
    "plt.style.use('dark_background')"
   ]
  },
  {
   "cell_type": "markdown",
   "metadata": {},
   "source": [
    "## Loading Data"
   ]
  },
  {
   "cell_type": "code",
   "execution_count": 336,
   "metadata": {},
   "outputs": [],
   "source": [
    "class Dataset:\n",
    "    def __init__(self, path: str):\n",
    "        if not isinstance(path, str):\n",
    "            raise ValueError('Path must be str')\n",
    "\n",
    "        path = './data/3.txt'\n",
    "        with open(path) as data_file:\n",
    "            dim = int(data_file.readline()) # number of features\n",
    "            x_train = list()\n",
    "            y_train = list()\n",
    "            x_test = list()\n",
    "            y_test = list()\n",
    "\n",
    "            n = int(data_file.readline()) # train set size\n",
    "            for i in range(n):\n",
    "                data_row = list(map(float, data_file.readline().split()))\n",
    "                x_train.append(data_row[:-1])\n",
    "                y_train.append(data_row[-1])\n",
    "            \n",
    "            k = int(data_file.readline()) # test set size\n",
    "            for i in range(k):\n",
    "                data_row = list(map(float, data_file.readline().split()))\n",
    "                x_test.append(data_row[:-1])\n",
    "                y_test.append(data_row[-1])\n",
    "\n",
    "            self.x_train = np.matrix(x_train)\n",
    "            self.y_train = np.matrix(y_train)\n",
    "            self.x_test = np.matrix(x_test)\n",
    "            self.y_test = np.matrix(y_test)\n",
    "\n",
    "            self.y_train = self.y_train.transpose()\n",
    "            self.y_test = self.y_test.transpose()"
   ]
  },
  {
   "cell_type": "markdown",
   "metadata": {},
   "source": [
    "## Define Metrics"
   ]
  },
  {
   "cell_type": "code",
   "execution_count": 337,
   "metadata": {},
   "outputs": [],
   "source": [
    "class Metrics:\n",
    "    def mape(actual, predicted):\n",
    "        return mean_absolute_percentage_error(actual, predicted)\n",
    "\n",
    "    def smape(actual, predicted):\n",
    "        A = np.array(actual.transpose())\n",
    "        P = np.array(predicted.transpose())\n",
    "        return 1.0 / len(A) * np.sum(2 * np.abs(P - A) / (np.abs(A) + np.abs(P)))\n",
    "\n",
    "    def nrmse(actual, predicted):\n",
    "        return mean_squared_error(actual, predicted, squared=False) / (actual.max() - actual.min())"
   ]
  },
  {
   "cell_type": "markdown",
   "metadata": {},
   "source": [
    "## Main function"
   ]
  },
  {
   "cell_type": "code",
   "execution_count": 338,
   "metadata": {},
   "outputs": [],
   "source": [
    "regressors = dict()\n",
    "regressors['ols'] = linear_model.LinearRegression()\n",
    "regressors['ridge'] = linear_model.Ridge()\n",
    "regressors['lasso'] = linear_model.Lasso()\n",
    "regressors['elastic-net'] = linear_model.ElasticNet()\n",
    "regressors['sgd'] = linear_model.SGDRegressor()\n",
    "\n",
    "def assignment(dataset: Dataset, method='ols'):\n",
    "    regressor = regressors[method]\n",
    "    regressor.fit(dataset.x_train, dataset.y_train)\n",
    "    predicted = regressor.predict(dataset.x_test)\n",
    "\n",
    "    print('Result MAPE: {0}'.format(Metrics.mape(dataset.y_test, predicted)))\n",
    "    print('Result SMAPE: {0}'.format(Metrics.smape(dataset.y_test, predicted)))\n",
    "    print('Result NRMSE: {0}'.format(Metrics.nrmse(dataset.y_test, predicted)))\n",
    "    print('Coefficient of determination: {0}'.format(r2_score(dataset.y_test, predicted)))"
   ]
  },
  {
   "cell_type": "markdown",
   "metadata": {},
   "source": [
    "## OLS"
   ]
  },
  {
   "cell_type": "code",
   "execution_count": 339,
   "metadata": {},
   "outputs": [
    {
     "name": "stdout",
     "output_type": "stream",
     "text": [
      "Result MAPE: 0.0022111485096134786\n",
      "Result SMAPE: 0.5561509053151132\n",
      "Result NRMSE: 0.0008965152289746172\n",
      "Coefficient of determination: 0.9999775126820426\n"
     ]
    }
   ],
   "source": [
    "dataset = Dataset('./data/1.txt')\n",
    "assignment(dataset, 'ols')"
   ]
  },
  {
   "cell_type": "markdown",
   "metadata": {},
   "source": [
    "## OLS: Ridge"
   ]
  },
  {
   "cell_type": "code",
   "execution_count": 340,
   "metadata": {},
   "outputs": [
    {
     "name": "stdout",
     "output_type": "stream",
     "text": [
      "Result MAPE: 0.00028471155330226896\n",
      "Result SMAPE: 0.07306178223749862\n",
      "Result NRMSE: 0.00011841372029401789\n",
      "Coefficient of determination: 0.9999996076927178\n"
     ]
    }
   ],
   "source": [
    "assignment(dataset, 'ridge')"
   ]
  },
  {
   "cell_type": "markdown",
   "metadata": {},
   "source": [
    "## OLS: Lasso"
   ]
  },
  {
   "cell_type": "code",
   "execution_count": 341,
   "metadata": {},
   "outputs": [
    {
     "name": "stdout",
     "output_type": "stream",
     "text": [
      "Result MAPE: 0.00027776587329172086\n",
      "Result SMAPE: 0.07163178274323502\n",
      "Result NRMSE: 5.950619961484769e-05\n",
      "Coefficient of determination: 0.9999999009289542\n"
     ]
    }
   ],
   "source": [
    "assignment(dataset, 'lasso')"
   ]
  },
  {
   "cell_type": "markdown",
   "metadata": {},
   "source": [
    "## OLS: Elastic-Net"
   ]
  },
  {
   "cell_type": "code",
   "execution_count": 342,
   "metadata": {},
   "outputs": [
    {
     "name": "stdout",
     "output_type": "stream",
     "text": [
      "Result MAPE: 0.0002777658748746221\n",
      "Result SMAPE: 0.07163178315444149\n",
      "Result NRMSE: 5.950620001907231e-05\n",
      "Coefficient of determination: 0.9999999009289529\n"
     ]
    }
   ],
   "source": [
    "assignment(dataset, 'elastic-net')"
   ]
  }
 ],
 "metadata": {
  "interpreter": {
   "hash": "63fd5069d213b44bf678585dea6b12cceca9941eaf7f819626cde1f2670de90d"
  },
  "kernelspec": {
   "display_name": "Python 3.9.1 64-bit",
   "name": "python3"
  },
  "language_info": {
   "codemirror_mode": {
    "name": "ipython",
    "version": 3
   },
   "file_extension": ".py",
   "mimetype": "text/x-python",
   "name": "python",
   "nbconvert_exporter": "python",
   "pygments_lexer": "ipython3",
   "version": "3.9.1"
  },
  "orig_nbformat": 4
 },
 "nbformat": 4,
 "nbformat_minor": 2
}
